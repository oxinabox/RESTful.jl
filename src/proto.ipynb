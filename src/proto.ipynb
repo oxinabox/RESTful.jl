{
 "cells": [
  {
   "cell_type": "code",
   "execution_count": 96,
   "metadata": {},
   "outputs": [],
   "source": [
    "using MacroTools\n",
    "using MacroTools: striplines\n",
    "using JSON"
   ]
  },
  {
   "cell_type": "code",
   "execution_count": null,
   "metadata": {},
   "outputs": [],
   "source": []
  },
  {
   "cell_type": "code",
   "execution_count": 1,
   "metadata": {},
   "outputs": [],
   "source": [
    "using HTTP\n",
    "using JSON"
   ]
  },
  {
   "cell_type": "code",
   "execution_count": null,
   "metadata": {},
   "outputs": [],
   "source": [
    "macro rest_str(doc)"
   ]
  },
  {
   "cell_type": "code",
   "execution_count": 2,
   "metadata": {},
   "outputs": [
    {
     "data": {
      "text/plain": [
       "\"Find commits via various criteria. This method returns up to 100 results per page.\\n\\nGET /search/commits\\n\\nConsiderations for commit search\\n\\nOnly the default branch is considered. In most cases, this will be the master branch.\\nParameters\\nName \\tType \\tDescription\\nq \\tstring \\tRequired. The search terms.\\nsort \\tstring \\tThe sort field. Can be author-date or committer-date. Default: results are sorted by best match.\\norder \\tstring \\tThe sort order if sort parameter is provided. One of asc or desc. Default: desc\\n\""
      ]
     },
     "execution_count": 2,
     "metadata": {},
     "output_type": "execute_result"
    }
   ],
   "source": [
    "#From https://developer.github.com/v3/search/\n",
    "doc = \"\"\"\n",
    "Find repositories via various criteria. This method returns up to 100 results per page.\n",
    "\n",
    "GET /search/repositories\n",
    "\n",
    "Parameters\n",
    "Name \tType \tDescription\n",
    "q \tstring \tRequired. The search keywords, as well as any qualifiers.\n",
    "sort \tstring \tThe sort field. One of stars, forks, or updated. Default: results are sorted by best match.\n",
    "order \tstring \tThe sort order if sort parameter is provided. One of asc or desc. Default: desc\n",
    "\"\"\""
   ]
  },
  {
   "cell_type": "code",
   "execution_count": 111,
   "metadata": {},
   "outputs": [
    {
     "data": {
      "text/plain": [
       ":(function search_repositories(; q=nothing, sort=nothing, order=nothing) # In[111], line 16:\n",
       "        query = Dict() # In[111], line 17:\n",
       "        begin \n",
       "            if q != nothing # In[111], line 9:\n",
       "                query[\"q\"] = q\n",
       "            end\n",
       "            if sort != nothing # In[111], line 9:\n",
       "                query[\"sort\"] = sort\n",
       "            end\n",
       "            if order != nothing # In[111], line 9:\n",
       "                query[\"order\"] = order\n",
       "            end\n",
       "        end # In[111], line 18:\n",
       "        uri = HTTP.URI(\"https://api.github.com\") # In[111], line 19:\n",
       "        uri = merge(uri; path=uri.path * \"/search/repositories\", query=query) # In[111], line 20:\n",
       "        resp = HTTP.request(\"GET\", uri, [\"USER-AGENT\" => \"RESTful.jl\"]) # In[111], line 21:\n",
       "        JSON.parse(String(resp.body))\n",
       "    end)"
      ]
     },
     "execution_count": 111,
     "metadata": {},
     "output_type": "execute_result"
    }
   ],
   "source": [
    "function declare_api(root, method, endpoint, param_names)\n",
    "    function_name = Symbol(join(split(endpoint, \"/\"; keep=false), \"_\"))\n",
    "    param_sig = Expr(:parameters,Expr.(:kw, Symbol.(param_names), :nothing)...)\n",
    "    \n",
    "    set_query_code = Expr(:block)\n",
    "    set_query_code.args = map(param_names) do param\n",
    "        quote\n",
    "             if $(Symbol(param)) != nothing\n",
    "                query[$(String(param))] = $(Symbol(param))\n",
    "            end\n",
    "        end |> MacroTools.unblock \n",
    "    end\n",
    "     \n",
    "    quote\n",
    "        function $(function_name)($(param_sig))\n",
    "            query = Dict()\n",
    "            $(set_query_code)\n",
    "            uri = HTTP.URI($root)\n",
    "            uri = merge(uri; path=uri.path*$endpoint, query=query)\n",
    "            resp = HTTP.request($method, uri, [\"USER-AGENT\"=>\"RESTful.jl\"])\n",
    "            JSON.parse(String(resp.body))\n",
    "        end\n",
    "    end|> MacroTools.unblock\n",
    "end\n",
    "    \n",
    "declare_api(\"https://api.github.com\", \"GET\", \"/search/repositories\", [\"q\", \"sort\", \"order\"])"
   ]
  },
  {
   "cell_type": "code",
   "execution_count": 112,
   "metadata": {},
   "outputs": [
    {
     "data": {
      "text/plain": [
       "search_repositories (generic function with 1 method)"
      ]
     },
     "execution_count": 112,
     "metadata": {},
     "output_type": "execute_result"
    }
   ],
   "source": [
    "eval(declare_api(\"https://api.github.com\", \"GET\", \"/search/repositories\", [\"q\", \"sort\", \"order\"]))"
   ]
  },
  {
   "cell_type": "code",
   "execution_count": 113,
   "metadata": {},
   "outputs": [
    {
     "data": {
      "text/plain": [
       "Dict{String,Any} with 3 entries:\n",
       "  \"incomplete_results\" => false\n",
       "  \"items\"              => Any[Dict{String,Any}(Pair{String,Any}(\"pulls_url\", \"h…\n",
       "  \"total_count\"        => 12141"
      ]
     },
     "execution_count": 113,
     "metadata": {},
     "output_type": "execute_result"
    }
   ],
   "source": [
    "x=search_repositories(q=\"julia\")"
   ]
  },
  {
   "cell_type": "code",
   "execution_count": 127,
   "metadata": {},
   "outputs": [
    {
     "data": {
      "text/plain": [
       "30-element Array{String,1}:\n",
       " \"julia\"                   \n",
       " \"IJulia.jl\"               \n",
       " \"Julia.jl\"                \n",
       " \"METADATA.jl\"             \n",
       " \"Mocha.jl\"                \n",
       " \"julialang.github.com\"    \n",
       " \"JuliaBox\"                \n",
       " \"Gadfly.jl\"               \n",
       " \"JuliaByExample\"          \n",
       " \"Optim.jl\"                \n",
       " \"QuantEcon.jl\"            \n",
       " \"learn-julia-the-hard-way\"\n",
       " \"JuliaCourseNotebooks\"    \n",
       " ⋮                         \n",
       " \"julia-vim\"               \n",
       " \"julia-studio\"            \n",
       " \"julia-mit\"               \n",
       " \"Images.jl\"               \n",
       " \"julia-tutorial\"          \n",
       " \"homebrew-julia\"          \n",
       " \"DataStructures.jl\"       \n",
       " \"Documenter.jl\"           \n",
       " \"Winston.jl\"              \n",
       " \"Escher.jl\"               \n",
       " \"JuliaFEM.jl\"             \n",
       " \"Graphs.jl\"               "
      ]
     },
     "execution_count": 127,
     "metadata": {},
     "output_type": "execute_result"
    }
   ],
   "source": [
    "[itm[\"name\"] for itm in x[\"items\"]]"
   ]
  },
  {
   "cell_type": "markdown",
   "metadata": {},
   "source": [
    "# TODO:\n",
    "\n",
    " - Parse key description features out of documentation, via pattern matching. (most doc seem fairly consitant)\n",
    " - Allow use to specify if the returned result is e.g. JSON or XML or what ever\n",
    " - Handle standard(?) pagination stuff\n",
    " - Handle auth stuff (prob means just letting user add stuff to the request?)\n"
   ]
  },
  {
   "cell_type": "code",
   "execution_count": null,
   "metadata": {},
   "outputs": [],
   "source": []
  }
 ],
 "metadata": {
  "kernelspec": {
   "display_name": "Julia 0.6.1",
   "language": "julia",
   "name": "julia-0.6"
  },
  "language_info": {
   "file_extension": ".jl",
   "mimetype": "application/julia",
   "name": "julia",
   "version": "0.6.1"
  }
 },
 "nbformat": 4,
 "nbformat_minor": 2
}
